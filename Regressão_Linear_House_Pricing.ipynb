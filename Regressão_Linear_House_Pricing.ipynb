{
  "nbformat": 4,
  "nbformat_minor": 0,
  "metadata": {
    "kernelspec": {
      "display_name": "Python 3",
      "language": "python",
      "name": "python3"
    },
    "language_info": {
      "codemirror_mode": {
        "name": "ipython",
        "version": 3
      },
      "file_extension": ".py",
      "mimetype": "text/x-python",
      "name": "python",
      "nbconvert_exporter": "python",
      "pygments_lexer": "ipython3",
      "version": "3.7.0"
    },
    "colab": {
      "name": "Regressão Linear - House Pricing.ipynb",
      "provenance": [],
      "collapsed_sections": [
        "eVnaXZaqgA8N",
        "kmbZsjs1gA8O",
        "_aebzBdggA8O",
        "shzxrLRdgA8P",
        "2PwhaXmUgA8P",
        "bPHVrTnRgA8P",
        "K6pSH48JgA8Q",
        "l-d_VnTlgA8Q",
        "Tnt4_inDgA8Q",
        "iNrsDcocgA8R",
        "24aKwuuTgA8R",
        "jr3ORmifgA8R",
        "0vOatfDzgA8S",
        "FugUHXTAgA8S",
        "nsT0FVD6gA8S",
        "YdCvhYFigA8T",
        "xRE6-dEegA8T",
        "pOMeMhiNgA8T",
        "c3QnR7eggA8U",
        "1dsVPmiOgA8U",
        "jLLYo1C2gA8U",
        "lfvlHCuegA8V",
        "vrR9MekogA8W",
        "PWw04XUqgA8W",
        "4FXUnjm8gA8X",
        "fcZNUobDgA8X",
        "g81YjtZxgA8X"
      ],
      "toc_visible": true,
      "include_colab_link": true
    }
  },
  "cells": [
    {
      "cell_type": "markdown",
      "metadata": {
        "id": "view-in-github",
        "colab_type": "text"
      },
      "source": [
        "<a href=\"https://colab.research.google.com/github/ClebinhoRainbow/DataScience/blob/main/Regress%C3%A3o_Linear_House_Pricing.ipynb\" target=\"_parent\"><img src=\"https://colab.research.google.com/assets/colab-badge.svg\" alt=\"Open In Colab\"/></a>"
      ]
    },
    {
      "cell_type": "markdown",
      "metadata": {
        "id": "YB_ighThgA8H"
      },
      "source": [
        "<h1 style='color: green; font-size: 36px; font-weight: bold;'>Data Science - Regressão Linear</h1>"
      ]
    },
    {
      "cell_type": "markdown",
      "metadata": {
        "id": "I6yGK-WCgA8I"
      },
      "source": [
        "# <font color='red' style='font-size: 30px;'>Conhecendo o Dataset</font>\n",
        "<hr style='border: 2px solid red;'>"
      ]
    },
    {
      "cell_type": "markdown",
      "metadata": {
        "id": "_UxIociOgA8J"
      },
      "source": [
        "## Importando bibliotecas"
      ]
    },
    {
      "cell_type": "code",
      "metadata": {
        "id": "rr2v-_YUgA8K"
      },
      "source": [
        "import matplotlib.pyplot as plt\r\n",
        "\r\n",
        "import pandas as pd\r\n",
        "import numpy as np"
      ],
      "execution_count": 1,
      "outputs": []
    },
    {
      "cell_type": "markdown",
      "metadata": {
        "id": "q6uo_fzsgA8K"
      },
      "source": [
        "## O Dataset e o Projeto\n",
        "<hr>\n",
        "\n",
        "### Fonte: https://www.kaggle.com/greenwing1985/housepricing\n",
        "\n",
        "### Descrição:\n",
        "<p style='font-size: 18px; line-height: 2; margin: 10px 50px; text-align: justify;'>Nosso objetivo neste exercício é criar um modelo de machine learning, utilizando a técnica de Regressão Linear, que faça previsões sobre os preços de imóveis a partir de um conjunto de características conhecidas dos imóveis.</p>\n",
        "\n",
        "<p style='font-size: 18px; line-height: 2; margin: 10px 50px; text-align: justify;'>Vamos utilizar um dataset disponível no Kaggle que foi gerado por computador para treinamento de machine learning para iniciantes. Este dataset foi modificado para facilitar o nosso objetivo, que é fixar o conhecimento adquirido no treinamento de Regressão Linear.</p>\n",
        "\n",
        "<p style='font-size: 18px; line-height: 2; margin: 10px 50px; text-align: justify;'>Siga os passos propostos nos comentários acima de cada célular e bons estudos.</p>\n",
        "\n",
        "### Dados:\n",
        "<ul style='font-size: 18px; line-height: 2; text-align: justify;'>\n",
        "    <li><b>precos</b> - Preços do imóveis</li>\n",
        "    <li><b>area</b> - Área do imóvel</li>\n",
        "    <li><b>garagem</b> - Número de vagas de garagem</li>\n",
        "    <li><b>banheiros</b> - Número de banheiros</li>\n",
        "    <li><b>lareira</b> - Número de lareiras</li>\n",
        "    <li><b>marmore</b> - Se o imóvel possui acabamento em mármore branco (1) ou não (0)</li>\n",
        "    <li><b>andares</b> - Se o imóvel possui mais de um andar (1) ou não (0)</li>\n",
        "</ul>"
      ]
    },
    {
      "cell_type": "markdown",
      "metadata": {
        "id": "2OQX88JkgA8L"
      },
      "source": [
        "## Leitura dos dados\n",
        "\n",
        "Dataset está na pasta \"Dados\" com o nome \"HousePrices_HalfMil.csv\" em usa como separador \";\"."
      ]
    },
    {
      "cell_type": "code",
      "metadata": {
        "id": "_BvhvSvJgA8L"
      },
      "source": [
        "dados = pd.read_csv(\"HousePrices_HalfMil.csv\",sep=\";\")"
      ],
      "execution_count": 2,
      "outputs": []
    },
    {
      "cell_type": "markdown",
      "metadata": {
        "id": "EInhXyM1gA8L"
      },
      "source": [
        "## Visualizar os dados"
      ]
    },
    {
      "cell_type": "code",
      "metadata": {
        "scrolled": true,
        "id": "Waah3DcBgA8L",
        "colab": {
          "base_uri": "https://localhost:8080/",
          "height": 415
        },
        "outputId": "02e57751-0837-4e3a-c5b9-2f543fa7036f"
      },
      "source": [
        "dados"
      ],
      "execution_count": 3,
      "outputs": [
        {
          "output_type": "execute_result",
          "data": {
            "text/html": [
              "<div>\n",
              "<style scoped>\n",
              "    .dataframe tbody tr th:only-of-type {\n",
              "        vertical-align: middle;\n",
              "    }\n",
              "\n",
              "    .dataframe tbody tr th {\n",
              "        vertical-align: top;\n",
              "    }\n",
              "\n",
              "    .dataframe thead th {\n",
              "        text-align: right;\n",
              "    }\n",
              "</style>\n",
              "<table border=\"1\" class=\"dataframe\">\n",
              "  <thead>\n",
              "    <tr style=\"text-align: right;\">\n",
              "      <th></th>\n",
              "      <th>precos</th>\n",
              "      <th>area</th>\n",
              "      <th>garagem</th>\n",
              "      <th>banheiros</th>\n",
              "      <th>lareira</th>\n",
              "      <th>marmore</th>\n",
              "      <th>andares</th>\n",
              "    </tr>\n",
              "  </thead>\n",
              "  <tbody>\n",
              "    <tr>\n",
              "      <th>0</th>\n",
              "      <td>51875</td>\n",
              "      <td>25</td>\n",
              "      <td>3</td>\n",
              "      <td>4</td>\n",
              "      <td>3</td>\n",
              "      <td>0</td>\n",
              "      <td>1</td>\n",
              "    </tr>\n",
              "    <tr>\n",
              "      <th>1</th>\n",
              "      <td>17875</td>\n",
              "      <td>35</td>\n",
              "      <td>1</td>\n",
              "      <td>3</td>\n",
              "      <td>1</td>\n",
              "      <td>0</td>\n",
              "      <td>0</td>\n",
              "    </tr>\n",
              "    <tr>\n",
              "      <th>2</th>\n",
              "      <td>47075</td>\n",
              "      <td>195</td>\n",
              "      <td>2</td>\n",
              "      <td>4</td>\n",
              "      <td>2</td>\n",
              "      <td>0</td>\n",
              "      <td>0</td>\n",
              "    </tr>\n",
              "    <tr>\n",
              "      <th>3</th>\n",
              "      <td>38575</td>\n",
              "      <td>33</td>\n",
              "      <td>2</td>\n",
              "      <td>2</td>\n",
              "      <td>1</td>\n",
              "      <td>0</td>\n",
              "      <td>1</td>\n",
              "    </tr>\n",
              "    <tr>\n",
              "      <th>4</th>\n",
              "      <td>33775</td>\n",
              "      <td>11</td>\n",
              "      <td>2</td>\n",
              "      <td>3</td>\n",
              "      <td>0</td>\n",
              "      <td>0</td>\n",
              "      <td>1</td>\n",
              "    </tr>\n",
              "    <tr>\n",
              "      <th>...</th>\n",
              "      <td>...</td>\n",
              "      <td>...</td>\n",
              "      <td>...</td>\n",
              "      <td>...</td>\n",
              "      <td>...</td>\n",
              "      <td>...</td>\n",
              "      <td>...</td>\n",
              "    </tr>\n",
              "    <tr>\n",
              "      <th>995</th>\n",
              "      <td>29150</td>\n",
              "      <td>48</td>\n",
              "      <td>1</td>\n",
              "      <td>5</td>\n",
              "      <td>4</td>\n",
              "      <td>0</td>\n",
              "      <td>0</td>\n",
              "    </tr>\n",
              "    <tr>\n",
              "      <th>996</th>\n",
              "      <td>43550</td>\n",
              "      <td>112</td>\n",
              "      <td>2</td>\n",
              "      <td>2</td>\n",
              "      <td>3</td>\n",
              "      <td>0</td>\n",
              "      <td>1</td>\n",
              "    </tr>\n",
              "    <tr>\n",
              "      <th>997</th>\n",
              "      <td>56575</td>\n",
              "      <td>185</td>\n",
              "      <td>3</td>\n",
              "      <td>4</td>\n",
              "      <td>4</td>\n",
              "      <td>0</td>\n",
              "      <td>1</td>\n",
              "    </tr>\n",
              "    <tr>\n",
              "      <th>998</th>\n",
              "      <td>56075</td>\n",
              "      <td>185</td>\n",
              "      <td>2</td>\n",
              "      <td>3</td>\n",
              "      <td>1</td>\n",
              "      <td>0</td>\n",
              "      <td>1</td>\n",
              "    </tr>\n",
              "    <tr>\n",
              "      <th>999</th>\n",
              "      <td>13350</td>\n",
              "      <td>94</td>\n",
              "      <td>1</td>\n",
              "      <td>1</td>\n",
              "      <td>3</td>\n",
              "      <td>0</td>\n",
              "      <td>0</td>\n",
              "    </tr>\n",
              "  </tbody>\n",
              "</table>\n",
              "<p>1000 rows × 7 columns</p>\n",
              "</div>"
            ],
            "text/plain": [
              "     precos  area  garagem  banheiros  lareira  marmore  andares\n",
              "0     51875    25        3          4        3        0        1\n",
              "1     17875    35        1          3        1        0        0\n",
              "2     47075   195        2          4        2        0        0\n",
              "3     38575    33        2          2        1        0        1\n",
              "4     33775    11        2          3        0        0        1\n",
              "..      ...   ...      ...        ...      ...      ...      ...\n",
              "995   29150    48        1          5        4        0        0\n",
              "996   43550   112        2          2        3        0        1\n",
              "997   56575   185        3          4        4        0        1\n",
              "998   56075   185        2          3        1        0        1\n",
              "999   13350    94        1          1        3        0        0\n",
              "\n",
              "[1000 rows x 7 columns]"
            ]
          },
          "metadata": {
            "tags": []
          },
          "execution_count": 3
        }
      ]
    },
    {
      "cell_type": "markdown",
      "metadata": {
        "id": "JixOd_NTgA8M"
      },
      "source": [
        "## Verificando o tamanho do dataset"
      ]
    },
    {
      "cell_type": "code",
      "metadata": {
        "id": "h0dqn6m9gA8M",
        "colab": {
          "base_uri": "https://localhost:8080/"
        },
        "outputId": "631d63e9-59ec-420c-b7b6-12a29a38e58d"
      },
      "source": [
        "dados.shape[0]"
      ],
      "execution_count": 4,
      "outputs": [
        {
          "output_type": "execute_result",
          "data": {
            "text/plain": [
              "1000"
            ]
          },
          "metadata": {
            "tags": []
          },
          "execution_count": 4
        }
      ]
    },
    {
      "cell_type": "markdown",
      "metadata": {
        "id": "P8E099lcgA8M"
      },
      "source": [
        "# <font color='red' style='font-size: 30px;'>Análises Preliminares</font>\n",
        "<hr style='border: 2px solid red;'>"
      ]
    },
    {
      "cell_type": "markdown",
      "metadata": {
        "id": "LEyldLY_gA8M"
      },
      "source": [
        "## Estatísticas descritivas"
      ]
    },
    {
      "cell_type": "code",
      "metadata": {
        "id": "0oWn9mgIgA8M",
        "colab": {
          "base_uri": "https://localhost:8080/",
          "height": 294
        },
        "outputId": "295451c8-289f-4742-f328-6d21b68c8645"
      },
      "source": [
        "dados.describe()"
      ],
      "execution_count": 5,
      "outputs": [
        {
          "output_type": "execute_result",
          "data": {
            "text/html": [
              "<div>\n",
              "<style scoped>\n",
              "    .dataframe tbody tr th:only-of-type {\n",
              "        vertical-align: middle;\n",
              "    }\n",
              "\n",
              "    .dataframe tbody tr th {\n",
              "        vertical-align: top;\n",
              "    }\n",
              "\n",
              "    .dataframe thead th {\n",
              "        text-align: right;\n",
              "    }\n",
              "</style>\n",
              "<table border=\"1\" class=\"dataframe\">\n",
              "  <thead>\n",
              "    <tr style=\"text-align: right;\">\n",
              "      <th></th>\n",
              "      <th>precos</th>\n",
              "      <th>area</th>\n",
              "      <th>garagem</th>\n",
              "      <th>banheiros</th>\n",
              "      <th>lareira</th>\n",
              "      <th>marmore</th>\n",
              "      <th>andares</th>\n",
              "    </tr>\n",
              "  </thead>\n",
              "  <tbody>\n",
              "    <tr>\n",
              "      <th>count</th>\n",
              "      <td>1000.000000</td>\n",
              "      <td>1000.000000</td>\n",
              "      <td>1000.000000</td>\n",
              "      <td>1000.000000</td>\n",
              "      <td>1000.000000</td>\n",
              "      <td>1000.000000</td>\n",
              "      <td>1000.000000</td>\n",
              "    </tr>\n",
              "    <tr>\n",
              "      <th>mean</th>\n",
              "      <td>41985.600000</td>\n",
              "      <td>124.326000</td>\n",
              "      <td>2.009000</td>\n",
              "      <td>3.000000</td>\n",
              "      <td>2.034000</td>\n",
              "      <td>0.331000</td>\n",
              "      <td>0.485000</td>\n",
              "    </tr>\n",
              "    <tr>\n",
              "      <th>std</th>\n",
              "      <td>12140.385408</td>\n",
              "      <td>72.389972</td>\n",
              "      <td>0.813376</td>\n",
              "      <td>1.429701</td>\n",
              "      <td>1.418752</td>\n",
              "      <td>0.470809</td>\n",
              "      <td>0.500025</td>\n",
              "    </tr>\n",
              "    <tr>\n",
              "      <th>min</th>\n",
              "      <td>13150.000000</td>\n",
              "      <td>1.000000</td>\n",
              "      <td>1.000000</td>\n",
              "      <td>1.000000</td>\n",
              "      <td>0.000000</td>\n",
              "      <td>0.000000</td>\n",
              "      <td>0.000000</td>\n",
              "    </tr>\n",
              "    <tr>\n",
              "      <th>25%</th>\n",
              "      <td>33112.500000</td>\n",
              "      <td>60.750000</td>\n",
              "      <td>1.000000</td>\n",
              "      <td>2.000000</td>\n",
              "      <td>1.000000</td>\n",
              "      <td>0.000000</td>\n",
              "      <td>0.000000</td>\n",
              "    </tr>\n",
              "    <tr>\n",
              "      <th>50%</th>\n",
              "      <td>41725.000000</td>\n",
              "      <td>123.000000</td>\n",
              "      <td>2.000000</td>\n",
              "      <td>3.000000</td>\n",
              "      <td>2.000000</td>\n",
              "      <td>0.000000</td>\n",
              "      <td>0.000000</td>\n",
              "    </tr>\n",
              "    <tr>\n",
              "      <th>75%</th>\n",
              "      <td>51175.000000</td>\n",
              "      <td>187.000000</td>\n",
              "      <td>3.000000</td>\n",
              "      <td>4.000000</td>\n",
              "      <td>3.000000</td>\n",
              "      <td>1.000000</td>\n",
              "      <td>1.000000</td>\n",
              "    </tr>\n",
              "    <tr>\n",
              "      <th>max</th>\n",
              "      <td>73675.000000</td>\n",
              "      <td>249.000000</td>\n",
              "      <td>3.000000</td>\n",
              "      <td>5.000000</td>\n",
              "      <td>4.000000</td>\n",
              "      <td>1.000000</td>\n",
              "      <td>1.000000</td>\n",
              "    </tr>\n",
              "  </tbody>\n",
              "</table>\n",
              "</div>"
            ],
            "text/plain": [
              "             precos         area  ...      marmore      andares\n",
              "count   1000.000000  1000.000000  ...  1000.000000  1000.000000\n",
              "mean   41985.600000   124.326000  ...     0.331000     0.485000\n",
              "std    12140.385408    72.389972  ...     0.470809     0.500025\n",
              "min    13150.000000     1.000000  ...     0.000000     0.000000\n",
              "25%    33112.500000    60.750000  ...     0.000000     0.000000\n",
              "50%    41725.000000   123.000000  ...     0.000000     0.000000\n",
              "75%    51175.000000   187.000000  ...     1.000000     1.000000\n",
              "max    73675.000000   249.000000  ...     1.000000     1.000000\n",
              "\n",
              "[8 rows x 7 columns]"
            ]
          },
          "metadata": {
            "tags": []
          },
          "execution_count": 5
        }
      ]
    },
    {
      "cell_type": "markdown",
      "metadata": {
        "id": "JXt6xzZ1gA8M"
      },
      "source": [
        "## Matriz de correlação\n",
        "\n",
        "<p style='font-size: 18px; line-height: 2; margin: 10px 50px; text-align: justify;'>O <b>coeficiente de correlação</b> é uma medida de associação linear entre duas variáveis e situa-se entre <b>-1</b> e <b>+1</b> sendo que <b>-1</b> indica associação negativa perfeita e <b>+1</b> indica associação positiva perfeita.</p>\n",
        "\n",
        "### Observe as correlações entre as variáveis:\n",
        "<ul style='font-size: 16px; line-height: 2; text-align: justify;'>\n",
        "    <li>Quais são mais correlacionadas com a variável dependete (Preço)?</li>\n",
        "    <li>Qual o relacionamento entre elas (positivo ou negativo)?</li>\n",
        "    <li>Existe correlação forte entre as variáveis explicativas?</li>\n",
        "</ul>"
      ]
    },
    {
      "cell_type": "code",
      "metadata": {
        "id": "Ds2_NscugA8N",
        "colab": {
          "base_uri": "https://localhost:8080/",
          "height": 263
        },
        "outputId": "c786644c-1b5f-4b41-b8a4-8687e377d6cd"
      },
      "source": [
        "dados.corr().round(4)"
      ],
      "execution_count": 6,
      "outputs": [
        {
          "output_type": "execute_result",
          "data": {
            "text/html": [
              "<div>\n",
              "<style scoped>\n",
              "    .dataframe tbody tr th:only-of-type {\n",
              "        vertical-align: middle;\n",
              "    }\n",
              "\n",
              "    .dataframe tbody tr th {\n",
              "        vertical-align: top;\n",
              "    }\n",
              "\n",
              "    .dataframe thead th {\n",
              "        text-align: right;\n",
              "    }\n",
              "</style>\n",
              "<table border=\"1\" class=\"dataframe\">\n",
              "  <thead>\n",
              "    <tr style=\"text-align: right;\">\n",
              "      <th></th>\n",
              "      <th>precos</th>\n",
              "      <th>area</th>\n",
              "      <th>garagem</th>\n",
              "      <th>banheiros</th>\n",
              "      <th>lareira</th>\n",
              "      <th>marmore</th>\n",
              "      <th>andares</th>\n",
              "    </tr>\n",
              "  </thead>\n",
              "  <tbody>\n",
              "    <tr>\n",
              "      <th>precos</th>\n",
              "      <td>1.0000</td>\n",
              "      <td>0.1177</td>\n",
              "      <td>0.1028</td>\n",
              "      <td>0.1244</td>\n",
              "      <td>0.1072</td>\n",
              "      <td>0.4308</td>\n",
              "      <td>0.6315</td>\n",
              "    </tr>\n",
              "    <tr>\n",
              "      <th>area</th>\n",
              "      <td>0.1177</td>\n",
              "      <td>1.0000</td>\n",
              "      <td>-0.0075</td>\n",
              "      <td>-0.0114</td>\n",
              "      <td>0.0121</td>\n",
              "      <td>-0.0153</td>\n",
              "      <td>-0.0180</td>\n",
              "    </tr>\n",
              "    <tr>\n",
              "      <th>garagem</th>\n",
              "      <td>0.1028</td>\n",
              "      <td>-0.0075</td>\n",
              "      <td>1.0000</td>\n",
              "      <td>0.0671</td>\n",
              "      <td>0.0605</td>\n",
              "      <td>-0.0156</td>\n",
              "      <td>-0.0206</td>\n",
              "    </tr>\n",
              "    <tr>\n",
              "      <th>banheiros</th>\n",
              "      <td>0.1244</td>\n",
              "      <td>-0.0114</td>\n",
              "      <td>0.0671</td>\n",
              "      <td>1.0000</td>\n",
              "      <td>0.0484</td>\n",
              "      <td>-0.0253</td>\n",
              "      <td>-0.0182</td>\n",
              "    </tr>\n",
              "    <tr>\n",
              "      <th>lareira</th>\n",
              "      <td>0.1072</td>\n",
              "      <td>0.0121</td>\n",
              "      <td>0.0605</td>\n",
              "      <td>0.0484</td>\n",
              "      <td>1.0000</td>\n",
              "      <td>0.0296</td>\n",
              "      <td>-0.0035</td>\n",
              "    </tr>\n",
              "    <tr>\n",
              "      <th>marmore</th>\n",
              "      <td>0.4308</td>\n",
              "      <td>-0.0153</td>\n",
              "      <td>-0.0156</td>\n",
              "      <td>-0.0253</td>\n",
              "      <td>0.0296</td>\n",
              "      <td>1.0000</td>\n",
              "      <td>-0.0065</td>\n",
              "    </tr>\n",
              "    <tr>\n",
              "      <th>andares</th>\n",
              "      <td>0.6315</td>\n",
              "      <td>-0.0180</td>\n",
              "      <td>-0.0206</td>\n",
              "      <td>-0.0182</td>\n",
              "      <td>-0.0035</td>\n",
              "      <td>-0.0065</td>\n",
              "      <td>1.0000</td>\n",
              "    </tr>\n",
              "  </tbody>\n",
              "</table>\n",
              "</div>"
            ],
            "text/plain": [
              "           precos    area  garagem  banheiros  lareira  marmore  andares\n",
              "precos     1.0000  0.1177   0.1028     0.1244   0.1072   0.4308   0.6315\n",
              "area       0.1177  1.0000  -0.0075    -0.0114   0.0121  -0.0153  -0.0180\n",
              "garagem    0.1028 -0.0075   1.0000     0.0671   0.0605  -0.0156  -0.0206\n",
              "banheiros  0.1244 -0.0114   0.0671     1.0000   0.0484  -0.0253  -0.0182\n",
              "lareira    0.1072  0.0121   0.0605     0.0484   1.0000   0.0296  -0.0035\n",
              "marmore    0.4308 -0.0153  -0.0156    -0.0253   0.0296   1.0000  -0.0065\n",
              "andares    0.6315 -0.0180  -0.0206    -0.0182  -0.0035  -0.0065   1.0000"
            ]
          },
          "metadata": {
            "tags": []
          },
          "execution_count": 6
        }
      ]
    },
    {
      "cell_type": "markdown",
      "metadata": {
        "id": "9SsvtrargA8N"
      },
      "source": [
        "# <font color='red' style='font-size: 30px;'>Comportamento da Variável Dependente (Y)</font>\n",
        "<hr style='border: 2px solid red;'>"
      ]
    },
    {
      "cell_type": "markdown",
      "metadata": {
        "id": "XiElI3h_gA8N"
      },
      "source": [
        "# Análises gráficas"
      ]
    },
    {
      "cell_type": "markdown",
      "metadata": {
        "id": "VA0Sb59wgA8N"
      },
      "source": [
        "<img width='700px' src='../Dados/img/Box-Plot.png'>"
      ]
    },
    {
      "cell_type": "markdown",
      "metadata": {
        "id": "eVnaXZaqgA8N"
      },
      "source": [
        "## Importando biblioteca seaborn"
      ]
    },
    {
      "cell_type": "code",
      "metadata": {
        "id": "jx5UShTLgA8O"
      },
      "source": [
        "import seaborn as sns"
      ],
      "execution_count": 7,
      "outputs": []
    },
    {
      "cell_type": "markdown",
      "metadata": {
        "id": "kmbZsjs1gA8O"
      },
      "source": [
        "## Configure o estilo e cor dos gráficos (opcional)"
      ]
    },
    {
      "cell_type": "code",
      "metadata": {
        "id": "wfUZinrFgA8O"
      },
      "source": [
        "sns.set_palette(\"Accent\")\r\n",
        "\r\n",
        "sns.set_style(\"darkgrid\")"
      ],
      "execution_count": 8,
      "outputs": []
    },
    {
      "cell_type": "markdown",
      "metadata": {
        "id": "_aebzBdggA8O"
      },
      "source": [
        "## Box plot da variável *dependente* (y)\n",
        "\n",
        "\n",
        "### Avalie o comportamento da distribuição da variável dependente:\n",
        "<ul style='font-size: 16px; line-height: 2; text-align: justify;'>\n",
        "    <li>Parecem existir valores discrepantes (outliers)?</li>\n",
        "    <li>O box plot apresenta alguma tendência?</li>\n",
        "</ul>"
      ]
    },
    {
      "cell_type": "markdown",
      "metadata": {
        "id": "t0-JaVLXgA8O"
      },
      "source": [
        "https://seaborn.pydata.org/generated/seaborn.boxplot.html?highlight=boxplot#seaborn.boxplot"
      ]
    },
    {
      "cell_type": "code",
      "metadata": {
        "id": "JtZ_Y6NlgA8O",
        "colab": {
          "base_uri": "https://localhost:8080/",
          "height": 297
        },
        "outputId": "3b12b9ee-755c-4f32-abc2-1489d4b826e0"
      },
      "source": [
        "ax = sns.boxplot(x='andares',y='precos',data=dados,orient='v',width=0.5)\r\n",
        "ax"
      ],
      "execution_count": 9,
      "outputs": [
        {
          "output_type": "execute_result",
          "data": {
            "text/plain": [
              "<matplotlib.axes._subplots.AxesSubplot at 0x7f3f648bb350>"
            ]
          },
          "metadata": {
            "tags": []
          },
          "execution_count": 9
        },
        {
          "output_type": "display_data",
          "data": {
            "image/png": "[encoded data removed]",
            "text/plain": [
              "<Figure size 432x288 with 1 Axes>"
            ]
          },
          "metadata": {
            "tags": []
          }
        }
      ]
    },
    {
      "cell_type": "markdown",
      "metadata": {
        "id": "5Jpv0Nm_TDgp"
      },
      "source": [
        "  O conjunto de dados não apresenta outliers que preucupem.\r\n",
        "  \r\n",
        "  E existe uma tendencia, como esperado, de habitações com mais de 1 andar serem em media mais caras."
      ]
    },
    {
      "cell_type": "markdown",
      "metadata": {
        "id": "th7p2b4-gA8O"
      },
      "source": [
        "## Investigando a variável *dependente* (y) juntamente com outras característica\n",
        "\n",
        "Faça um box plot da variável dependente em conjunto com cada variável explicativa (somente as categóricas).\n",
        "\n",
        "### Avalie o comportamento da distribuição da variável dependente com cada variável explicativa categórica:\n",
        "<ul style='font-size: 16px; line-height: 2; text-align: justify;'>\n",
        "    <li>As estatísticas apresentam mudança significativa entre as categorias?</li>\n",
        "    <li>O box plot apresenta alguma tendência bem definida?</li>\n",
        "</ul>"
      ]
    },
    {
      "cell_type": "markdown",
      "metadata": {
        "id": "shzxrLRdgA8P"
      },
      "source": [
        "### Box-plot (Preço X Garagem)"
      ]
    },
    {
      "cell_type": "code",
      "metadata": {
        "id": "zNZua199gA8P",
        "colab": {
          "base_uri": "https://localhost:8080/",
          "height": 297
        },
        "outputId": "6e3ed152-2ee5-48cc-bf8b-23ce40617799"
      },
      "source": [
        "ax = sns.boxplot(x='garagem',y='precos',data=dados,orient='v',width=0.5,linewidth=0.5)\r\n",
        "ax"
      ],
      "execution_count": 14,
      "outputs": [
        {
          "output_type": "execute_result",
          "data": {
            "text/plain": [
              "<matplotlib.axes._subplots.AxesSubplot at 0x7f3f63fd6210>"
            ]
          },
          "metadata": {
            "tags": []
          },
          "execution_count": 14
        },
        {
          "output_type": "display_data",
          "data": {
            "image/png": "[encoded data removed]",
            "text/plain": [
              "<Figure size 432x288 with 1 Axes>"
            ]
          },
          "metadata": {
            "tags": []
          }
        }
      ]
    },
    {
      "cell_type": "markdown",
      "metadata": {
        "id": "VXWNW7YdTvb4"
      },
      "source": [
        "Aparentemente não há muita variação entre o preço com habitações com mais de uma garagem em diante no conjunto de dados."
      ]
    },
    {
      "cell_type": "markdown",
      "metadata": {
        "id": "2PwhaXmUgA8P"
      },
      "source": [
        "### Box-plot (Preço X Banheiros)"
      ]
    },
    {
      "cell_type": "code",
      "metadata": {
        "id": "hYOAxXijgA8P",
        "colab": {
          "base_uri": "https://localhost:8080/",
          "height": 297
        },
        "outputId": "6a760d4e-bb73-4d52-a11b-71f5dad3fc8d"
      },
      "source": [
        "ax = sns.boxplot(x='banheiros',y='precos',data=dados,orient='v',width=0.5,linewidth=0.5)\r\n",
        "ax"
      ],
      "execution_count": 15,
      "outputs": [
        {
          "output_type": "execute_result",
          "data": {
            "text/plain": [
              "<matplotlib.axes._subplots.AxesSubplot at 0x7f3f63f6df50>"
            ]
          },
          "metadata": {
            "tags": []
          },
          "execution_count": 15
        },
        {
          "output_type": "display_data",
          "data": {
            "image/png": "[encoded data removed]",
            "text/plain": [
              "<Figure size 432x288 with 1 Axes>"
            ]
          },
          "metadata": {
            "tags": []
          }
        }
      ]
    },
    {
      "cell_type": "markdown",
      "metadata": {
        "id": "4CDd9BJRUFGY"
      },
      "source": [
        "Parece haver um leve aumento de valor em habitações com mais de 3 banheiros."
      ]
    },
    {
      "cell_type": "markdown",
      "metadata": {
        "id": "bPHVrTnRgA8P"
      },
      "source": [
        "### Box-plot (Preço X Lareira)"
      ]
    },
    {
      "cell_type": "code",
      "metadata": {
        "id": "QUWJwxaFgA8P",
        "colab": {
          "base_uri": "https://localhost:8080/",
          "height": 297
        },
        "outputId": "c5225e08-ca98-44e3-cebb-03e7ceff537d"
      },
      "source": [
        "ax = sns.boxplot(x='lareira',y='precos',data=dados,orient='v',width=0.5,linewidth=0.5)\r\n",
        "ax"
      ],
      "execution_count": 16,
      "outputs": [
        {
          "output_type": "execute_result",
          "data": {
            "text/plain": [
              "<matplotlib.axes._subplots.AxesSubplot at 0x7f3f63f09050>"
            ]
          },
          "metadata": {
            "tags": []
          },
          "execution_count": 16
        },
        {
          "output_type": "display_data",
          "data": {
            "image/png": "[encoded data removed]",
            "text/plain": [
              "<Figure size 432x288 with 1 Axes>"
            ]
          },
          "metadata": {
            "tags": []
          }
        }
      ]
    },
    {
      "cell_type": "markdown",
      "metadata": {
        "id": "fCEh1M5RURtO"
      },
      "source": [
        "As habitações com duas ou mais lareiras são, em media, mais caras que as demais."
      ]
    },
    {
      "cell_type": "markdown",
      "metadata": {
        "id": "K6pSH48JgA8Q"
      },
      "source": [
        "### Box-plot (Preço X Acabamento em Mármore)"
      ]
    },
    {
      "cell_type": "code",
      "metadata": {
        "id": "JBtWD9PDgA8Q",
        "colab": {
          "base_uri": "https://localhost:8080/",
          "height": 297
        },
        "outputId": "bc2a39d5-414b-4d68-8b4d-ae9bbb101e51"
      },
      "source": [
        "ax = sns.boxplot(x='marmore',y='precos',data=dados,orient='v',width=0.5)\r\n",
        "ax"
      ],
      "execution_count": 10,
      "outputs": [
        {
          "output_type": "execute_result",
          "data": {
            "text/plain": [
              "<matplotlib.axes._subplots.AxesSubplot at 0x7f3f64317d50>"
            ]
          },
          "metadata": {
            "tags": []
          },
          "execution_count": 10
        },
        {
          "output_type": "display_data",
          "data": {
            "image/png": "[encoded data removed]",
            "text/plain": [
              "<Figure size 432x288 with 1 Axes>"
            ]
          },
          "metadata": {
            "tags": []
          }
        }
      ]
    },
    {
      "cell_type": "markdown",
      "metadata": {
        "id": "JqWebyfjUeo3"
      },
      "source": [
        "Casas com acabamento em marmore costumam ser mais caras que as sem."
      ]
    },
    {
      "cell_type": "markdown",
      "metadata": {
        "id": "l-d_VnTlgA8Q"
      },
      "source": [
        "### Box-plot (Preço X Andares)"
      ]
    },
    {
      "cell_type": "code",
      "metadata": {
        "id": "v_S7vCVygA8Q",
        "colab": {
          "base_uri": "https://localhost:8080/",
          "height": 297
        },
        "outputId": "36d5e0d4-e57a-470a-d30c-8d78539c80f3"
      },
      "source": [
        "ax = sns.boxplot(x='andares',y='precos',data=dados,orient='v',width=0.5)\r\n",
        "ax"
      ],
      "execution_count": 17,
      "outputs": [
        {
          "output_type": "execute_result",
          "data": {
            "text/plain": [
              "<matplotlib.axes._subplots.AxesSubplot at 0x7f3f64816ed0>"
            ]
          },
          "metadata": {
            "tags": []
          },
          "execution_count": 17
        },
        {
          "output_type": "display_data",
          "data": {
            "image/png": "[encoded data removed]",
            "text/plain": [
              "<Figure size 432x288 with 1 Axes>"
            ]
          },
          "metadata": {
            "tags": []
          }
        }
      ]
    },
    {
      "cell_type": "markdown",
      "metadata": {
        "id": "V-covtPjUpg2"
      },
      "source": [
        "Casas com mais de um andar constumam ser bem mais caras do que aquelas com apenas 1."
      ]
    },
    {
      "cell_type": "markdown",
      "metadata": {
        "id": "Tnt4_inDgA8Q"
      },
      "source": [
        "## Distribuição de frequências da variável *dependente* (y)\n",
        "\n",
        "Construa um histograma da variável dependente (Preço).\n",
        "\n",
        "### Avalie:\n",
        "<ul style='font-size: 16px; line-height: 2; text-align: justify;'>\n",
        "    <li>A distribuição de frequências da variável dependente parece ser assimétrica?</li>\n",
        "    <li>É possível supor que a variável dependente segue uma distribuição normal?</li>\n",
        "</ul>"
      ]
    },
    {
      "cell_type": "markdown",
      "metadata": {
        "id": "Cjzg3TYlgA8Q"
      },
      "source": [
        "https://seaborn.pydata.org/generated/seaborn.distplot.html?highlight=distplot#seaborn.distplot"
      ]
    },
    {
      "cell_type": "code",
      "metadata": {
        "id": "8vpqAtIlgA8Q",
        "colab": {
          "base_uri": "https://localhost:8080/",
          "height": 387
        },
        "outputId": "fdb04c82-3882-40c3-8485-9a29212ce229"
      },
      "source": [
        "ax = sns.displot(data=dados , x=\"precos\",kde=True)\r\n",
        "ax.set_axis_labels(\"Precos em R$\", \"Quantidade\")\r\n",
        "ax"
      ],
      "execution_count": 30,
      "outputs": [
        {
          "output_type": "execute_result",
          "data": {
            "text/plain": [
              "<seaborn.axisgrid.FacetGrid at 0x7f3f55900e90>"
            ]
          },
          "metadata": {
            "tags": []
          },
          "execution_count": 30
        },
        {
          "output_type": "display_data",
          "data": {
            "image/png": "[encoded data removed]",
            "text/plain": [
              "<Figure size 360x360 with 1 Axes>"
            ]
          },
          "metadata": {
            "tags": []
          }
        }
      ]
    },
    {
      "cell_type": "markdown",
      "metadata": {
        "id": "nWJ-HB65WqPU"
      },
      "source": [
        "Aparentemente, há uma irregularidade no meio da distribuição.\r\n",
        "Desconsiderando isso, por não ter ferramentas para resolver isso (16/03/2021), vou considerar uma distribuição simetrica.\r\n",
        "E, assim, considerando uma distribuição normal."
      ]
    },
    {
      "cell_type": "markdown",
      "metadata": {
        "id": "iNrsDcocgA8R"
      },
      "source": [
        "## Gráficos de dispersão entre as variáveis do dataset"
      ]
    },
    {
      "cell_type": "markdown",
      "metadata": {
        "id": "ji7zQOeHgA8R"
      },
      "source": [
        "## Plotando o pairplot fixando somente uma variável no eixo y\n",
        "\n",
        "https://seaborn.pydata.org/generated/seaborn.pairplot.html?highlight=pairplot#seaborn.pairplot\n",
        "\n",
        "Plote gráficos de dispersão da variável dependente contra cada variável explicativa. Utilize o pairplot da biblioteca seaborn para isso.\n",
        "\n",
        "Plote o mesmo gráfico utilizando o parâmetro kind='reg'.\n",
        "\n",
        "### Avalie:\n",
        "<ul style='font-size: 16px; line-height: 2; text-align: justify;'>\n",
        "    <li>É possível identificar alguma relação linear entre as variáveis?</li>\n",
        "    <li>A relação é positiva ou negativa?</li>\n",
        "    <li>Compare com os resultados obtidos na matriz de correlação.</li>\n",
        "</ul>"
      ]
    },
    {
      "cell_type": "code",
      "metadata": {
        "id": "oDjRrMEUgA8R",
        "colab": {
          "base_uri": "https://localhost:8080/",
          "height": 223
        },
        "outputId": "a81b11c9-6a99-499f-8b43-1c2ef4bd1541"
      },
      "source": [
        "ax = sns.pairplot(dados, y_vars='precos', x_vars=['garagem', 'lareira', 'banheiros', 'marmore', 'andares'])\r\n",
        "ax.fig.suptitle('Dispersão entre as Variáveis', fontsize=20, y=1.05)\r\n",
        "ax"
      ],
      "execution_count": 33,
      "outputs": [
        {
          "output_type": "execute_result",
          "data": {
            "text/plain": [
              "<seaborn.axisgrid.PairGrid at 0x7f3f546010d0>"
            ]
          },
          "metadata": {
            "tags": []
          },
          "execution_count": 33
        },
        {
          "output_type": "display_data",
          "data": {
            "image/png": "[encoded data removed]",
            "text/plain": [
              "<Figure size 900x180 with 5 Axes>"
            ]
          },
          "metadata": {
            "tags": []
          }
        }
      ]
    },
    {
      "cell_type": "code",
      "metadata": {
        "id": "GD2-JVtmgA8R",
        "colab": {
          "base_uri": "https://localhost:8080/",
          "height": 224
        },
        "outputId": "35f25a2e-5cdb-484e-b39f-30ddedf78e90"
      },
      "source": [
        "ax = sns.pairplot(dados, y_vars='precos', x_vars=['garagem', 'lareira', 'banheiros', 'marmore', 'andares'], kind='reg')\r\n",
        "ax.fig.suptitle('Dispersão entre as Variáveis', fontsize=20, y=1.05)\r\n",
        "ax"
      ],
      "execution_count": 34,
      "outputs": [
        {
          "output_type": "execute_result",
          "data": {
            "text/plain": [
              "<seaborn.axisgrid.PairGrid at 0x7f3f5297e450>"
            ]
          },
          "metadata": {
            "tags": []
          },
          "execution_count": 34
        },
        {
          "output_type": "display_data",
          "data": {
            "image/png": "[encoded data removed]",
            "text/plain": [
              "<Figure size 900x180 with 5 Axes>"
            ]
          },
          "metadata": {
            "tags": []
          }
        }
      ]
    },
    {
      "cell_type": "markdown",
      "metadata": {
        "id": "d1XNkfPCYSep"
      },
      "source": [
        "Há uma relação de aumento do preco dos imovéis conforme o numero e a existencia  dos fatores mencionados acima varia."
      ]
    },
    {
      "cell_type": "markdown",
      "metadata": {
        "id": "24aKwuuTgA8R"
      },
      "source": [
        "# <font color='red' style='font-size: 30px;'>Estimando um Modelo de Regressão Linear</font>\n",
        "<hr style='border: 2px solid red;'>"
      ]
    },
    {
      "cell_type": "markdown",
      "metadata": {
        "id": "jr3ORmifgA8R"
      },
      "source": [
        "## Importando o *train_test_split* da biblioteca *scikit-learn*\n",
        "\n",
        "https://scikit-learn.org/stable/modules/generated/sklearn.model_selection.train_test_split.html"
      ]
    },
    {
      "cell_type": "code",
      "metadata": {
        "id": "8VOH8IdpgA8R"
      },
      "source": [
        "from sklearn.model_selection import train_test_split"
      ],
      "execution_count": 35,
      "outputs": []
    },
    {
      "cell_type": "markdown",
      "metadata": {
        "id": "0vOatfDzgA8S"
      },
      "source": [
        "## Criando uma Series (pandas) para armazenar a variável dependente (y)"
      ]
    },
    {
      "cell_type": "code",
      "metadata": {
        "id": "hrYCVX7ugA8S"
      },
      "source": [
        "y = dados.precos"
      ],
      "execution_count": 36,
      "outputs": []
    },
    {
      "cell_type": "markdown",
      "metadata": {
        "id": "FugUHXTAgA8S"
      },
      "source": [
        "## Criando um DataFrame (pandas) para armazenar as variáveis explicativas (X)"
      ]
    },
    {
      "cell_type": "code",
      "metadata": {
        "id": "Pgw-Vy14gA8S"
      },
      "source": [
        "X = dados[['garagem', 'lareira', 'banheiros', 'marmore', 'andares']]"
      ],
      "execution_count": 37,
      "outputs": []
    },
    {
      "cell_type": "markdown",
      "metadata": {
        "id": "nsT0FVD6gA8S"
      },
      "source": [
        "## Criando os datasets de treino e de teste"
      ]
    },
    {
      "cell_type": "code",
      "metadata": {
        "id": "LCj2XSm1gA8S"
      },
      "source": [
        "X_train, X_test, y_train, y_test = train_test_split(X, y, test_size=0.3, random_state=2811)"
      ],
      "execution_count": 38,
      "outputs": []
    },
    {
      "cell_type": "markdown",
      "metadata": {
        "id": "YdCvhYFigA8T"
      },
      "source": [
        "## Importando *LinearRegression* e *metrics* da biblioteca *scikit-learn*\n",
        "\n",
        "https://scikit-learn.org/stable/modules/generated/sklearn.linear_model.LinearRegression.html\n",
        "\n",
        "https://scikit-learn.org/stable/modules/classes.html#regression-metrics"
      ]
    },
    {
      "cell_type": "code",
      "metadata": {
        "id": "6aOalRIegA8T"
      },
      "source": [
        "from sklearn.linear_model import LinearRegression\r\n",
        "from sklearn import metrics"
      ],
      "execution_count": 40,
      "outputs": []
    },
    {
      "cell_type": "markdown",
      "metadata": {
        "id": "xRE6-dEegA8T"
      },
      "source": [
        "## Instanciando a classe *LinearRegression()*"
      ]
    },
    {
      "cell_type": "code",
      "metadata": {
        "id": "siZZiUUegA8T"
      },
      "source": [
        "modelo = LinearRegression()"
      ],
      "execution_count": 41,
      "outputs": []
    },
    {
      "cell_type": "markdown",
      "metadata": {
        "id": "pOMeMhiNgA8T"
      },
      "source": [
        "## Utilizando o método *fit()* para estimar o modelo linear utilizando os dados de TREINO (y_train e X_train)\n",
        "\n",
        "https://scikit-learn.org/stable/modules/generated/sklearn.linear_model.LinearRegression.html#sklearn.linear_model.LinearRegression.fit"
      ]
    },
    {
      "cell_type": "code",
      "metadata": {
        "id": "PNqdbRqigA8U",
        "colab": {
          "base_uri": "https://localhost:8080/"
        },
        "outputId": "be4f07e2-fd47-4d95-bbbb-a92d7757851b"
      },
      "source": [
        "modelo.fit(X_train,y_train)"
      ],
      "execution_count": 42,
      "outputs": [
        {
          "output_type": "execute_result",
          "data": {
            "text/plain": [
              "LinearRegression(copy_X=True, fit_intercept=True, n_jobs=None, normalize=False)"
            ]
          },
          "metadata": {
            "tags": []
          },
          "execution_count": 42
        }
      ]
    },
    {
      "cell_type": "markdown",
      "metadata": {
        "id": "c3QnR7eggA8U"
      },
      "source": [
        "## Obtendo o coeficiente de determinação (R²) do modelo estimado com os dados de TREINO\n",
        "\n",
        "https://scikit-learn.org/stable/modules/generated/sklearn.linear_model.LinearRegression.html#sklearn.linear_model.LinearRegression.score\n",
        "\n",
        "\n",
        "### Avalie:\n",
        "<ul style='font-size: 16px; line-height: 2; text-align: justify;'>\n",
        "    <li>O modelo apresenta um bom ajuste?</li>\n",
        "    <li>Você lembra o que representa o R²?</li>\n",
        "    <li>Qual medida podemos tomar para melhorar essa estatística?</li>\n",
        "</ul>"
      ]
    },
    {
      "cell_type": "code",
      "metadata": {
        "id": "E0rCqLVzgA8U",
        "colab": {
          "base_uri": "https://localhost:8080/"
        },
        "outputId": "8050214c-9c0a-4146-fcd7-bd5e22935ab3"
      },
      "source": [
        "print('R² = {}'.format(modelo.score(X_train, y_train).round(2)))"
      ],
      "execution_count": 43,
      "outputs": [
        {
          "output_type": "stream",
          "text": [
            "R² = 0.62\n"
          ],
          "name": "stdout"
        }
      ]
    },
    {
      "cell_type": "markdown",
      "metadata": {
        "id": "aSnu4V63Z9r2"
      },
      "source": [
        "Parece ser um ajuste, bom o suficiente para estudos. O R² é um coeficiente que indica o quão a linha de regressão se adequa aos dados.\r\n",
        "Para melhorar essa medida estatistica eu indicaria aumentar a amostra de dados."
      ]
    },
    {
      "cell_type": "markdown",
      "metadata": {
        "id": "1dsVPmiOgA8U"
      },
      "source": [
        "## Gerando previsões para os dados de TESTE (X_test) utilizando o método *predict()*\n",
        "\n",
        "https://scikit-learn.org/stable/modules/generated/sklearn.linear_model.LinearRegression.html#sklearn.linear_model.LinearRegression.predict"
      ]
    },
    {
      "cell_type": "code",
      "metadata": {
        "id": "oKvBQ9AMgA8U"
      },
      "source": [
        "y_previsto = modelo.predict(X_test)"
      ],
      "execution_count": 46,
      "outputs": []
    },
    {
      "cell_type": "markdown",
      "metadata": {
        "id": "jLLYo1C2gA8U"
      },
      "source": [
        "## Obtendo o coeficiente de determinação (R²) para as previsões do nosso modelo\n",
        "\n",
        "https://scikit-learn.org/stable/modules/generated/sklearn.metrics.r2_score.html#sklearn.metrics.r2_score"
      ]
    },
    {
      "cell_type": "code",
      "metadata": {
        "id": "oj5uq5kRgA8V",
        "colab": {
          "base_uri": "https://localhost:8080/"
        },
        "outputId": "96ed492b-8d1c-47be-ecc1-8ba3e6b4d765"
      },
      "source": [
        "print('R² = %s' % metrics.r2_score(y_test, y_previsto).round(2))"
      ],
      "execution_count": 48,
      "outputs": [
        {
          "output_type": "stream",
          "text": [
            "R² = 0.66\n"
          ],
          "name": "stdout"
        }
      ]
    },
    {
      "cell_type": "markdown",
      "metadata": {
        "id": "w9SXXRFcgA8V"
      },
      "source": [
        "# <font color='red' style='font-size: 30px;'>Obtendo Previsões Pontuais</font>\n",
        "<hr style='border: 2px solid red;'>"
      ]
    },
    {
      "cell_type": "markdown",
      "metadata": {
        "id": "lfvlHCuegA8V"
      },
      "source": [
        "## Criando um simulador simples\n",
        "\n",
        "Crie um simulador que gere estimativas de preço a partir de um conjunto de informações de um imóvel."
      ]
    },
    {
      "cell_type": "code",
      "metadata": {
        "id": "DHH1WNQJgA8V",
        "colab": {
          "base_uri": "https://localhost:8080/",
          "height": 79
        },
        "outputId": "e9b8c8b8-7fcd-47e0-b40c-6edd12ce6c52"
      },
      "source": [
        "entrada = X_test[0:1]\r\n",
        "entrada"
      ],
      "execution_count": 49,
      "outputs": [
        {
          "output_type": "execute_result",
          "data": {
            "text/html": [
              "<div>\n",
              "<style scoped>\n",
              "    .dataframe tbody tr th:only-of-type {\n",
              "        vertical-align: middle;\n",
              "    }\n",
              "\n",
              "    .dataframe tbody tr th {\n",
              "        vertical-align: top;\n",
              "    }\n",
              "\n",
              "    .dataframe thead th {\n",
              "        text-align: right;\n",
              "    }\n",
              "</style>\n",
              "<table border=\"1\" class=\"dataframe\">\n",
              "  <thead>\n",
              "    <tr style=\"text-align: right;\">\n",
              "      <th></th>\n",
              "      <th>garagem</th>\n",
              "      <th>lareira</th>\n",
              "      <th>banheiros</th>\n",
              "      <th>marmore</th>\n",
              "      <th>andares</th>\n",
              "    </tr>\n",
              "  </thead>\n",
              "  <tbody>\n",
              "    <tr>\n",
              "      <th>402</th>\n",
              "      <td>2</td>\n",
              "      <td>4</td>\n",
              "      <td>4</td>\n",
              "      <td>0</td>\n",
              "      <td>1</td>\n",
              "    </tr>\n",
              "  </tbody>\n",
              "</table>\n",
              "</div>"
            ],
            "text/plain": [
              "     garagem  lareira  banheiros  marmore  andares\n",
              "402        2        4          4        0        1"
            ]
          },
          "metadata": {
            "tags": []
          },
          "execution_count": 49
        }
      ]
    },
    {
      "cell_type": "code",
      "metadata": {
        "colab": {
          "base_uri": "https://localhost:8080/"
        },
        "id": "tBHe8Np4bVoP",
        "outputId": "9f731932-3217-4c34-fb13-1a8cfa555977"
      },
      "source": [
        "modelo.predict(entrada)[0]"
      ],
      "execution_count": 50,
      "outputs": [
        {
          "output_type": "execute_result",
          "data": {
            "text/plain": [
              "48467.64143187667"
            ]
          },
          "metadata": {
            "tags": []
          },
          "execution_count": 50
        }
      ]
    },
    {
      "cell_type": "code",
      "metadata": {
        "colab": {
          "base_uri": "https://localhost:8080/"
        },
        "id": "c7HO5tsAbYuC",
        "outputId": "66848e00-000d-4f78-d554-1a7c43c97caa"
      },
      "source": [
        "garagens=2\r\n",
        "lareira=4\r\n",
        "banheiros=4\r\n",
        "marmore = 0\r\n",
        "andares = 1\r\n",
        "entrada=[[garagens,lareira,banheiros,marmore,andares]]\r\n",
        "\r\n",
        "print('{0:.2f} litros'.format(modelo.predict(entrada)[0]))"
      ],
      "execution_count": 52,
      "outputs": [
        {
          "output_type": "stream",
          "text": [
            "48467.64 litros\n"
          ],
          "name": "stdout"
        }
      ]
    },
    {
      "cell_type": "markdown",
      "metadata": {
        "id": "pf4GzaxfgA8W"
      },
      "source": [
        "# <font color='red' style='font-size: 30px;'>Métricas de Regressão</font>\n",
        "<hr style='border: 2px solid red;'>"
      ]
    },
    {
      "cell_type": "markdown",
      "metadata": {
        "id": "vrR9MekogA8W"
      },
      "source": [
        "## Métricas da regressão\n",
        "<hr>\n",
        "\n",
        "fonte: https://scikit-learn.org/stable/modules/model_evaluation.html#regression-metrics\n",
        "\n",
        "Algumas estatísticas obtidas do modelo de regressão são muito úteis como critério de comparação entre modelos estimados e de seleção do melhor modelo, as principais métricas de regressão que o scikit-learn disponibiliza para modelos lineares são as seguintes:\n",
        "\n",
        "### Erro Quadrático Médio\n",
        "\n",
        "Média dos quadrados dos erros. Ajustes melhores apresentam $EQM$ mais baixo.\n",
        "\n",
        "$$EQM(y, \\hat{y}) = \\frac 1n\\sum_{i=0}^{n-1}(y_i-\\hat{y}_i)^2$$\n",
        "\n",
        "### Raíz do Erro Quadrático Médio\n",
        "\n",
        "Raíz quadrada da média dos quadrados dos erros. Ajustes melhores apresentam $\\sqrt{EQM}$ mais baixo.\n",
        "\n",
        "$$\\sqrt{EQM(y, \\hat{y})} = \\sqrt{\\frac 1n\\sum_{i=0}^{n-1}(y_i-\\hat{y}_i)^2}$$\n",
        "\n",
        "### Coeficiente de Determinação - R²\n",
        "\n",
        "O coeficiente de determinação (R²) é uma medida resumida que diz quanto a linha de regressão ajusta-se aos dados. É um valor entra 0 e 1.\n",
        "\n",
        "$$R^2(y, \\hat{y}) = 1 - \\frac {\\sum_{i=0}^{n-1}(y_i-\\hat{y}_i)^2}{\\sum_{i=0}^{n-1}(y_i-\\bar{y}_i)^2}$$"
      ]
    },
    {
      "cell_type": "markdown",
      "metadata": {
        "id": "PWw04XUqgA8W"
      },
      "source": [
        "## Obtendo métricas para o modelo com Temperatura Máxima"
      ]
    },
    {
      "cell_type": "code",
      "metadata": {
        "id": "6WTXJHJSgA8W",
        "colab": {
          "base_uri": "https://localhost:8080/",
          "height": 141
        },
        "outputId": "930ec6bc-4ee0-4ecf-91c9-921f0dfb904b"
      },
      "source": [
        "EQM = metrics.mean_squared_error(y_test, y_previsto).round(2)\r\n",
        "REQM = np.sqrt(metrics.mean_squared_error(y_test, y_previsto)).round(2)\r\n",
        "R2 = metrics.r2_score(y_test, y_previsto).round(2)\r\n",
        "\r\n",
        "pd.DataFrame([EQM, REQM, R2], ['EQM', 'REQM', 'R²'], columns=['Métricas'])"
      ],
      "execution_count": 55,
      "outputs": [
        {
          "output_type": "execute_result",
          "data": {
            "text/html": [
              "<div>\n",
              "<style scoped>\n",
              "    .dataframe tbody tr th:only-of-type {\n",
              "        vertical-align: middle;\n",
              "    }\n",
              "\n",
              "    .dataframe tbody tr th {\n",
              "        vertical-align: top;\n",
              "    }\n",
              "\n",
              "    .dataframe thead th {\n",
              "        text-align: right;\n",
              "    }\n",
              "</style>\n",
              "<table border=\"1\" class=\"dataframe\">\n",
              "  <thead>\n",
              "    <tr style=\"text-align: right;\">\n",
              "      <th></th>\n",
              "      <th>Métricas</th>\n",
              "    </tr>\n",
              "  </thead>\n",
              "  <tbody>\n",
              "    <tr>\n",
              "      <th>EQM</th>\n",
              "      <td>52229928.95</td>\n",
              "    </tr>\n",
              "    <tr>\n",
              "      <th>REQM</th>\n",
              "      <td>7227.03</td>\n",
              "    </tr>\n",
              "    <tr>\n",
              "      <th>R²</th>\n",
              "      <td>0.66</td>\n",
              "    </tr>\n",
              "  </tbody>\n",
              "</table>\n",
              "</div>"
            ],
            "text/plain": [
              "         Métricas\n",
              "EQM   52229928.95\n",
              "REQM      7227.03\n",
              "R²           0.66"
            ]
          },
          "metadata": {
            "tags": []
          },
          "execution_count": 55
        }
      ]
    },
    {
      "cell_type": "markdown",
      "metadata": {
        "id": "clQrmEOPgA8X"
      },
      "source": [
        "# <font color='red' style='font-size: 30px;'>Salvando e Carregando o Modelo Estimado</font>\n",
        "<hr style='border: 2px solid red;'>"
      ]
    },
    {
      "cell_type": "markdown",
      "metadata": {
        "id": "4FXUnjm8gA8X"
      },
      "source": [
        "## Importando a biblioteca pickle"
      ]
    },
    {
      "cell_type": "code",
      "metadata": {
        "id": "_E3ieKhMgA8X"
      },
      "source": [
        "import pickle"
      ],
      "execution_count": 57,
      "outputs": []
    },
    {
      "cell_type": "markdown",
      "metadata": {
        "id": "fcZNUobDgA8X"
      },
      "source": [
        "## Salvando o modelo estimado"
      ]
    },
    {
      "cell_type": "code",
      "metadata": {
        "id": "UxzlOdH7gA8X"
      },
      "source": [
        "output = open('modelo_consumo_cerveja', 'wb')\r\n",
        "pickle.dump(modelo, output)\r\n",
        "output.close()"
      ],
      "execution_count": 58,
      "outputs": []
    },
    {
      "cell_type": "markdown",
      "metadata": {
        "id": "g81YjtZxgA8X"
      },
      "source": [
        "### Em um novo notebook/projeto Python\n",
        "\n",
        "<h4 style='color: blue; font-weight: normal'>In [1]:</h4>\n",
        "\n",
        "```sh\n",
        "import pickle\n",
        "\n",
        "modelo = open('modelo_preço','rb')\n",
        "lm_new = pickle.load(modelo)\n",
        "modelo.close()\n",
        "\n",
        "area = 38\n",
        "garagem = 2\n",
        "banheiros = 4\n",
        "lareira = 4\n",
        "marmore = 0\n",
        "andares = 1\n",
        "\n",
        "entrada = [[area, garagem, banheiros, lareira, marmore, andares]]\n",
        "\n",
        "print('$ {0:.2f}'.format(lm_new.predict(entrada)[0]))\n",
        "```\n",
        "\n",
        "<h4 style='color: red; font-weight: normal'>Out [1]:</h4>\n",
        "\n",
        "```\n",
        "$ 46389.80\n",
        "```"
      ]
    },
    {
      "cell_type": "code",
      "metadata": {
        "id": "eTCUPp8vgA8Y"
      },
      "source": [
        ""
      ],
      "execution_count": 9,
      "outputs": []
    }
  ]
}